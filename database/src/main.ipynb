{
 "cells": [
  {
   "cell_type": "code",
   "execution_count": 1,
   "metadata": {},
   "outputs": [],
   "source": [
    "#Importing libraries\n",
    "from pinecone import Pinecone, ServerlessSpec"
   ]
  },
  {
   "cell_type": "code",
   "execution_count": 2,
   "metadata": {},
   "outputs": [],
   "source": [
    "#Initializing pinecone client\n",
    "pc = Pinecone(api_key=\"dd1385d4-5e6c-4002-9db4-d0f08bd2b1d0\")"
   ]
  },
  {
   "cell_type": "code",
   "execution_count": 3,
   "metadata": {},
   "outputs": [],
   "source": [
    "#Create an index\n",
    "index_name = \"embeddings\"\n",
    "\n",
    "#Check if the index already exists\n",
    "if index_name not in pc.list_indexes():\n",
    "    pc.create_index(\n",
    "        name = index_name,\n",
    "        metric=\"cosine\",\n",
    "        dimension=768,\n",
    "        spec=ServerlessSpec(\n",
    "            cloud='aws', \n",
    "            region='us-east-1'\n",
    "        )\n",
    "    )\n",
    "\n",
    "#Get the index\n",
    "index = pc.Index(index_name)"
   ]
  },
  {
   "cell_type": "code",
   "execution_count": 4,
   "metadata": {},
   "outputs": [
    {
     "name": "stderr",
     "output_type": "stream",
     "text": [
      "<>:10: SyntaxWarning: invalid escape sequence '\\M'\n",
      "<>:10: SyntaxWarning: invalid escape sequence '\\M'\n",
      "C:\\Users\\Dell\\AppData\\Local\\Temp\\ipykernel_16832\\590403953.py:10: SyntaxWarning: invalid escape sequence '\\M'\n",
      "  with open(\"D:\\My projects\\RAG-based Semantic Search\\Data\\metadata\\metadata.json\", \"r\") as f:\n"
     ]
    }
   ],
   "source": [
    "#Loading all the embeddings\n",
    "import numpy as np\n",
    "\n",
    "sentence_embeddings = np.load(\"D:/My projects/RAG-based Semantic Search/Data/handling_data/text_data/sentence_embeddings.npy\")\n",
    "sparse_embeddings = np.load(\"D:/My projects/RAG-based Semantic Search/Data/handling_data/text_data/sparse_embeds.npy\", allow_pickle=True)\n",
    "image_embeddings = np.load(\"D:/My projects/RAG-based Semantic Search/Data/handling_data/image_data/image_embeds.npy\").squeeze(1)\n",
    "#importing json as dictionary \n",
    "import json\n",
    "\n",
    "with open(\"D:\\My projects\\RAG-based Semantic Search\\Data\\metadata\\metadata.json\", \"r\") as f:\n",
    "    metadata = json.load(f)"
   ]
  },
  {
   "cell_type": "code",
   "execution_count": 5,
   "metadata": {},
   "outputs": [],
   "source": [
    "#Upsert just the text embeddings\n",
    "for id, (dense_sent, sparse_sent, img, meta) in enumerate(zip(sentence_embeddings, sparse_embeddings, image_embeddings, metadata)):\n",
    "    index.upsert(namespace='embeds', vectors=[\n",
    "        {\n",
    "            \"id\": str(id),\n",
    "            \"values\" : dense_sent.tolist(),\n",
    "            \"sparse_values\" : {\n",
    "                \"indices\" : sparse_sent['indices'],\n",
    "                \"values\" : sparse_sent['values']\n",
    "            },\n",
    "            \"metadata\" :{\n",
    "                'name': meta['name'],\n",
    "                'price': meta['price'],\n",
    "                'color': meta['color'],\n",
    "                'category': meta['category'],\n",
    "                'description': meta['description'],\n",
    "                'image_path': meta['image_path']\n",
    "            }\n",
    "        }\n",
    "    ])"
   ]
  },
  {
   "cell_type": "code",
   "execution_count": 6,
   "metadata": {},
   "outputs": [],
   "source": [
    "#Creating the text + image embeddings\n",
    "\n",
    "tot_embeddings = list()\n",
    "\n",
    "for i in range(0,843):\n",
    "\n",
    "    tot_embeddings.append(sentence_embeddings[i].tolist() + image_embeddings[i].tolist())"
   ]
  },
  {
   "cell_type": "code",
   "execution_count": 7,
   "metadata": {},
   "outputs": [],
   "source": [
    "#Creating a different index\n",
    "index_name = \"totembeddings\"\n",
    "\n",
    "# #Check if the index already exists\n",
    "if index_name not in pc.list_indexes():\n",
    "    pc.create_index(\n",
    "        name = index_name,\n",
    "        metric=\"cosine\",\n",
    "        dimension=1280,\n",
    "        spec=ServerlessSpec(\n",
    "            cloud='aws', \n",
    "            region='us-east-1'\n",
    "        )\n",
    "    )\n",
    "\n",
    "#Get the index\n",
    "index = pc.Index(index_name)"
   ]
  },
  {
   "cell_type": "code",
   "execution_count": 8,
   "metadata": {},
   "outputs": [],
   "source": [
    "#upserting text+image embeddinsg in a difference namespacce\n",
    "\n",
    "for id, (total_embedding, sparse_sent, meta) in enumerate(zip(tot_embeddings, sparse_embeddings, metadata)):\n",
    "    index.upsert(namespace='total_embeds', vectors=[\n",
    "        {\n",
    "            \"id\": str(id),\n",
    "            \"values\" : total_embedding,\n",
    "            \"sparse_values\" : {\n",
    "                \"indices\" : sparse_sent['indices'],\n",
    "                \"values\" : sparse_sent['values']\n",
    "            },\n",
    "            \"metadata\" :{\n",
    "                'name': meta['name'],\n",
    "                'price': meta['price'],\n",
    "                'color': meta['color'],\n",
    "                'category': meta['category'],\n",
    "                'description': meta['description'],\n",
    "                'image_path': meta['image_path']\n",
    "            }\n",
    "        }\n",
    "    ])"
   ]
  },
  {
   "cell_type": "code",
   "execution_count": null,
   "metadata": {},
   "outputs": [],
   "source": []
  }
 ],
 "metadata": {
  "kernelspec": {
   "display_name": "capstone",
   "language": "python",
   "name": "python3"
  },
  "language_info": {
   "codemirror_mode": {
    "name": "ipython",
    "version": 3
   },
   "file_extension": ".py",
   "mimetype": "text/x-python",
   "name": "python",
   "nbconvert_exporter": "python",
   "pygments_lexer": "ipython3",
   "version": "3.12.3"
  }
 },
 "nbformat": 4,
 "nbformat_minor": 2
}
